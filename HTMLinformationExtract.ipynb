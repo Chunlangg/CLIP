{
  "nbformat": 4,
  "nbformat_minor": 0,
  "metadata": {
    "colab": {
      "provenance": [],
      "authorship_tag": "ABX9TyMCpv0u+VZ0H3yXB0GeZmtE",
      "include_colab_link": true
    },
    "kernelspec": {
      "name": "python3",
      "display_name": "Python 3"
    },
    "language_info": {
      "name": "python"
    }
  },
  "cells": [
    {
      "cell_type": "markdown",
      "metadata": {
        "id": "view-in-github",
        "colab_type": "text"
      },
      "source": [
        "<a href=\"https://colab.research.google.com/github/Chunlangg/CLIP/blob/main/HTMLinformationExtract.ipynb\" target=\"_parent\"><img src=\"https://colab.research.google.com/assets/colab-badge.svg\" alt=\"Open In Colab\"/></a>"
      ]
    },
    {
      "cell_type": "code",
      "source": [],
      "metadata": {
        "id": "YVIZEut5YP1K"
      },
      "execution_count": null,
      "outputs": []
    },
    {
      "cell_type": "code",
      "source": [
        "import re\n",
        "from bs4 import BeautifulSoup\n",
        "\n",
        "# The HTML string containing the data\n",
        "html_string = '<div class=\"text\">\\nSorry for the delay.Today\\'s stock. DM <a href=\"https://t.me/BitconisandGC\">@BitconisandGC</a> to buy<br><br>500.00, False  Sold<br>429.33, False  Sold<br>100.00, False  Sold<br>100.00, False  Sold<br>100.00, False  Sold<br>100.00, False  Sold<br>100.00, False  Sold<br>100.00, False  Sold<br>104.01, True   Sold<br>102.21, True   Sold<br>80.00, False     Sold\\n       </div>'\n",
        "\n",
        "# Create a BeautifulSoup object from the HTML string\n",
        "soup = BeautifulSoup(html_string, 'html.parser')\n",
        "\n",
        "# Extract the text content of the div element\n",
        "div_text = soup.find('div', {'class': 'text'}).get_text()\n",
        "\n",
        "# Initialize an empty list to hold the extracted data\n",
        "data = []\n",
        "\n",
        "# Loop over each line and extract the data\n",
        "for line in div_text.split('\\n'):\n",
        "    # Skip any empty lines\n",
        "    if not line:\n",
        "        continue\n",
        "    # Use regular expression to extract dollar amounts from line\n",
        "    dollar_amount_match = re.search(r'\\d+\\.\\d+', line)\n",
        "    if not dollar_amount_match:\n",
        "        continue\n",
        "    dollar_amount = float(dollar_amount_match.group())\n",
        "    # Split the line into its constituent parts based on the comma character\n",
        "    parts = line.split(',')\n",
        "    available = bool(parts[1].strip() == 'True')\n",
        "    status = parts[2].strip()\n",
        "    # Add the extracted data to the list\n",
        "    data.append({'dollar_amount': dollar_amount, 'available': available, 'status': status})\n",
        "\n",
        "# Print the extracted data\n",
        "print(data)\n"
      ],
      "metadata": {
        "colab": {
          "base_uri": "https://localhost:8080/"
        },
        "id": "0fg-tbCNWaOx",
        "outputId": "24eb3bfb-19c9-4463-dc15-6f5083b35bc4"
      },
      "execution_count": 1,
      "outputs": [
        {
          "output_type": "stream",
          "name": "stdout",
          "text": [
            "[{'dollar_amount': 500.0, 'available': False, 'status': 'False  Sold100.00'}]\n"
          ]
        }
      ]
    },
    {
      "cell_type": "markdown",
      "source": [
        "use the real webset"
      ],
      "metadata": {
        "id": "giVU3a1QX5iv"
      }
    },
    {
      "cell_type": "code",
      "source": [
        "from bs4 import BeautifulSoup\n",
        "\n",
        "# Open the HTML file and read its contents\n",
        "with open(\"/Users/chunlan/Research/Project-name-Dandelion% data/ChatExport_2023-01-17/messages.html\", 'r') as f:\n",
        "    html_string = f.read()\n",
        "\n",
        "# Create a BeautifulSoup object from the HTML string\n",
        "soup = BeautifulSoup(html_string, 'html.parser')\n",
        "\n",
        "# Find the div element containing the text information\n",
        "div_text = soup.find('div', {'class': 'text'}).get_text()\n",
        "\n",
        "# Print the extracted text information\n",
        "print(repr(div_text))\n",
        "\n"
      ],
      "metadata": {
        "colab": {
          "base_uri": "https://localhost:8080/",
          "height": 240
        },
        "id": "znp3GB94Xu19",
        "outputId": "cbecce87-a259-4275-88aa-6cc3af06720f"
      },
      "execution_count": 8,
      "outputs": [
        {
          "output_type": "error",
          "ename": "FileNotFoundError",
          "evalue": "ignored",
          "traceback": [
            "\u001b[0;31m---------------------------------------------------------------------------\u001b[0m",
            "\u001b[0;31mFileNotFoundError\u001b[0m                         Traceback (most recent call last)",
            "\u001b[0;32m<ipython-input-8-5b08ea1754be>\u001b[0m in \u001b[0;36m<cell line: 4>\u001b[0;34m()\u001b[0m\n\u001b[1;32m      2\u001b[0m \u001b[0;34m\u001b[0m\u001b[0m\n\u001b[1;32m      3\u001b[0m \u001b[0;31m# Open the HTML file and read its contents\u001b[0m\u001b[0;34m\u001b[0m\u001b[0;34m\u001b[0m\u001b[0m\n\u001b[0;32m----> 4\u001b[0;31m \u001b[0;32mwith\u001b[0m \u001b[0mopen\u001b[0m\u001b[0;34m(\u001b[0m\u001b[0;34m\"/Users/chunlan/Research/Project-name-Dandelion% data/ChatExport_2023-01-17/messages.html\"\u001b[0m\u001b[0;34m,\u001b[0m \u001b[0;34m'r'\u001b[0m\u001b[0;34m)\u001b[0m \u001b[0;32mas\u001b[0m \u001b[0mf\u001b[0m\u001b[0;34m:\u001b[0m\u001b[0;34m\u001b[0m\u001b[0;34m\u001b[0m\u001b[0m\n\u001b[0m\u001b[1;32m      5\u001b[0m     \u001b[0mhtml_string\u001b[0m \u001b[0;34m=\u001b[0m \u001b[0mf\u001b[0m\u001b[0;34m.\u001b[0m\u001b[0mread\u001b[0m\u001b[0;34m(\u001b[0m\u001b[0;34m)\u001b[0m\u001b[0;34m\u001b[0m\u001b[0;34m\u001b[0m\u001b[0m\n\u001b[1;32m      6\u001b[0m \u001b[0;34m\u001b[0m\u001b[0m\n",
            "\u001b[0;31mFileNotFoundError\u001b[0m: [Errno 2] No such file or directory: '/Users/chunlan/Research/Project-name-Dandelion% data/ChatExport_2023-01-17/messages.html'"
          ]
        }
      ]
    }
  ]
}